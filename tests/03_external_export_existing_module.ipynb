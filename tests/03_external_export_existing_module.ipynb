{
 "cells": [
  {
   "cell_type": "markdown",
   "id": "586efbd7-c4aa-452e-93e1-288d8c8c38f8",
   "metadata": {},
   "source": [
    "This notebook is used to demonstrate exporting to a non existing module. See the notebooks in `nbs` for how it's used."
   ]
  },
  {
   "cell_type": "code",
   "execution_count": null,
   "id": "6b9e5af4-3df8-4fb3-b7aa-926bff2e413d",
   "metadata": {},
   "outputs": [],
   "source": [
    "#|hide\n",
    "#|default_exp some.other_module"
   ]
  },
  {
   "cell_type": "code",
   "execution_count": null,
   "id": "bc015fcd-d48b-4e91-a797-5a18c015537d",
   "metadata": {},
   "outputs": [],
   "source": [
    "#| export\n",
    "def internal_func():\n",
    "    pass"
   ]
  }
 ],
 "metadata": {
  "kernelspec": {
   "display_name": "Python 3 (ipykernel)",
   "language": "python",
   "name": "python3"
  }
 },
 "nbformat": 4,
 "nbformat_minor": 5
}
